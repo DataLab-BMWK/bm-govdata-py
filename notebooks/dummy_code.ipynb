{
 "cells": [
  {
   "cell_type": "code",
   "execution_count": null,
   "metadata": {},
   "outputs": [],
   "source": [
    "# Import big xlsx file with 500000 rows and 200 columns\n",
    "# Import libraries\n",
    "import pandas as pd\n",
    "import numpy as np\n",
    "import matplotlib.pyplot as plt\n",
    "import seaborn as sns\n",
    "import os\n",
    "import time\n",
    "import datetime\n",
    "import gc\n",
    "import warnings\n",
    "warnings.filterwarnings('ignore')\n",
    "%matplotlib inline\n",
    "# Import data\n",
    "df = pd.read_excel('data.xlsx')\n",
    "# Check data\n",
    "df.head()\n",
    "# Check data\n",
    "df.info()\n",
    "# Check data\n",
    "df.describe()\n",
    "# Check data\n",
    "df.isnull().sum()\n",
    "# Check data\n",
    "df.shape\n",
    "# Check data\n",
    "df.columns\n",
    "# Check data\n",
    "df.dtypes\n"
   ]
  },
  {
   "cell_type": "code",
   "execution_count": null,
   "metadata": {},
   "outputs": [],
   "source": [
    "# Load csv from subfolder\n",
    "df = pd.read_csv('data/data.csv')\n",
    "\n",
    "# Select specific columns\n",
    "df_branche = df[['Brancheschlüssel', 'BeantragteSumme (Antrag)', 'Bewilligungsstelle']]\n",
    "\n",
    "# Select only first three characters from column\n",
    "df_branche.loc['Brancheschlüssel'] = df_branche.loc['Brancheschlüssel'].str[:3]\n",
    "\n",
    "# Mean from 'BeantragteSumme (Antrag)' and columns 'Brancheschlüssel' and 'Bewilligungsstelle'\n",
    "df_branche_group = df_branche.groupby(['Brancheschlüssel', 'Bewilligungsstelle'])['BeantragteSumme (Antrag)'].mean()\n",
    "\n",
    "\n",
    "\n",
    "# Plot mean value from df_branche_group as bar chart with seaborn and flipped axis\n",
    "plt.figure(figsize=(20,10))\n",
    "sns.barplot(x=df_branche_group.index, y=df_branche_group['BeantragteSumme (Antrag)']['mean'])\n",
    "\n",
    "\n",
    "\n",
    "\n"
   ]
  }
 ],
 "metadata": {
  "kernelspec": {
   "display_name": "Python 3",
   "language": "python",
   "name": "python3"
  },
  "language_info": {
   "name": "python",
   "version": "3.10.4"
  },
  "orig_nbformat": 4
 },
 "nbformat": 4,
 "nbformat_minor": 2
}
