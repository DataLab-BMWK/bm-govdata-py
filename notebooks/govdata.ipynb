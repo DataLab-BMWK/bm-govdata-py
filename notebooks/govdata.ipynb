{
 "cells": [
  {
   "cell_type": "code",
   "execution_count": 54,
   "metadata": {},
   "outputs": [],
   "source": [
    "import requests\n",
    "import pandas as pd\n",
    "import io\n",
    "import numpy as np\n",
    "\n",
    "# Define the SPARQL endpoint\n",
    "endpoint = \"https://www.govdata.de/sparql\"\n",
    "\n",
    "# Get the proxy URL\n",
    "proxy_url = requests.utils.getproxies().get('http')\n",
    "\n",
    "# Set the proxy configuration\n",
    "proxies = {'http': proxy_url}\n",
    "\n",
    "\n",
    "\n",
    "query = \"\"\"\n",
    "PREFIX foaf: <http://xmlns.com/foaf/0.1/>\n",
    "PREFIX dcat: <http://www.w3.org/ns/dcat#>\n",
    "PREFIX dct: <http://purl.org/dc/terms/>\n",
    "PREFIX dcatde: <http://dcat-ap.de/def/dcatde/>\n",
    "PREFIX xsd: <http://www.w3.org/2001/XMLSchema#>\n",
    "\n",
    "SELECT ?dataset ?title ?publisher_name ?distribution_link ?publication_year\n",
    "WHERE {\n",
    "  ?dataset a dcat:Dataset ;\n",
    "            dct:title ?title ;\n",
    "            dcat:distribution ?distribution ;\n",
    "            dct:publisher ?publisher .\n",
    "  OPTIONAL {?publisher foaf:name ?publisher_name} .\n",
    "  FILTER(REGEX(lcase(?publisher_name),'^bm.*|bundesminist.*|^ausw.*|^aa$')) .\n",
    "  OPTIONAL { ?distribution dcat:accessURL ?distribution_link } .\n",
    "  OPTIONAL { ?dataset dct:issued ?publication_date } .\n",
    "  BIND (year(?publication_date) as ?publication_year)\n",
    "}\n",
    "\"\"\"\n",
    "\n",
    "# Send the SPARQL query and get the response in CSV format\n",
    "url = endpoint + '?query=' + requests.utils.quote(query, safe='')\n",
    "headers = {'Accept': 'text/csv'}\n",
    "response = requests.get(url, headers=headers, proxies=proxies, timeout=60)\n",
    "\n",
    "# Convert the CSV response to a Pandas DataFrame\n",
    "df = pd.read_csv(io.StringIO(response.content.decode('utf-8')))\n",
    "\n",
    "# Delete unnecessary variables\n",
    "del endpoint, proxy_url, proxies, query, url, headers, response\n"
   ]
  },
  {
   "cell_type": "code",
   "execution_count": 55,
   "metadata": {},
   "outputs": [],
   "source": [
    "# Use np.select to create a new column publisher_short with the short publisher name\n",
    "conditions = [\n",
    "    df['publisher_name'].str.contains('Wirtschaft und|BMWK|BMWI', case=False),\n",
    "    df['publisher_name'].str.contains('Finanzen|^BMF', case=False),\n",
    "    df['publisher_name'].str.contains('Innern|^BMI', case=False),\n",
    "    df['publisher_name'].str.contains('^Ausw|^AA', case=False),\n",
    "    df['publisher_name'].str.contains('Justitz|BMJ', case=False),\n",
    "    df['publisher_name'].str.contains('Arbeit|BMAS', case=False),\n",
    "    df['publisher_name'].str.contains('Verteidigung|BMVg', case=False),\n",
    "    df['publisher_name'].str.contains('Landwirtschaft|BMEL', case=False),\n",
    "    df['publisher_name'].str.contains('Familie|BMFSFJ', case=False),\n",
    "    df['publisher_name'].str.contains('Gesundheit|BMG', case=False),\n",
    "    df['publisher_name'].str.contains('Verkehr|BMDV', case=False),\n",
    "    df['publisher_name'].str.contains('Umwelt|BMUV', case=False),\n",
    "    df['publisher_name'].str.contains('Bildung|BMBF', case=False),\n",
    "    df['publisher_name'].str.contains('Entwicklung|BMZ', case=False),\n",
    "    df['publisher_name'].str.contains('Wohnen|BMWSB', case=False),\n",
    "    df['publisher_name'].str.contains('Bundeskanzleramt|BKAmt', case=False)\n",
    "]\n",
    "\n",
    "choices = ['BMWK', 'BMF', 'BMI', 'AA', 'BMJ', 'BMAS', 'BMVg', 'BMEL', 'BMFSFJ', 'BMG', 'BMDV', 'BMUV', 'BMBF', 'BMZ', 'BMWSB', 'BKAmt']\n",
    "df['publisher_short'] = np.select(conditions, choices, default='other')\n",
    "\n",
    "# Create factor column for the publisher_short column\n",
    "df['publisher_short'] = pd.Categorical(df['publisher_short'], categories=choices, ordered=True)\n",
    "\n",
    "# Delete variables that are not needed anymore\n",
    "del choices, conditions"
   ]
  },
  {
   "cell_type": "code",
   "execution_count": 57,
   "metadata": {},
   "outputs": [],
   "source": [
    "# Subset the file format from the distribution_link column\n",
    "df['file_format'] = df['distribution_link'].str.split('.').str[-1]\n",
    "\n",
    "# Export df to CSV\n",
    "df.to_csv('output/govdata.csv', index=False)"
   ]
  },
  {
   "cell_type": "code",
   "execution_count": 62,
   "metadata": {},
   "outputs": [],
   "source": [
    "# Count number of file formats\n",
    "df_file_format = df['file_format'].value_counts()\n"
   ]
  },
  {
   "cell_type": "code",
   "execution_count": 47,
   "metadata": {},
   "outputs": [],
   "source": [
    "# Get only distinct datasets\n",
    "df_distinct = df.drop_duplicates(subset=['dataset'])"
   ]
  },
  {
   "cell_type": "code",
   "execution_count": 48,
   "metadata": {},
   "outputs": [
    {
     "name": "stdout",
     "output_type": "stream",
     "text": [
      "BMBF      387\n",
      "BMDV      278\n",
      "BMAS       63\n",
      "BMFSFJ     60\n",
      "BMF        54\n",
      "BMI        25\n",
      "BMWK       20\n",
      "BMZ        11\n",
      "AA          8\n",
      "BMEL        6\n",
      "BMVg        4\n",
      "BMG         3\n",
      "BMJ         0\n",
      "BMUV        0\n",
      "BMWSB       0\n",
      "BKAmt       0\n",
      "Name: publisher_short, dtype: int64\n"
     ]
    }
   ],
   "source": [
    "# Count the number of datasets per publisher\n",
    "df_distinct_publ = df_distinct['publisher_short'].value_counts()\n",
    "print(df_distinct_publ)"
   ]
  },
  {
   "cell_type": "code",
   "execution_count": 49,
   "metadata": {},
   "outputs": [],
   "source": [
    "random_rows = df.sample(n=10)"
   ]
  },
  {
   "cell_type": "code",
   "execution_count": 53,
   "metadata": {},
   "outputs": [
    {
     "name": "stdout",
     "output_type": "stream",
     "text": [
      "                                                 url     status\n",
      "0  https://www.bmi.bund.de/SharedDocs/downloads/D...  Error 403\n",
      "1  https://www.datenportal.bmbf.de/portal/Tabelle...         OK\n",
      "2  https://cdc.dwd.de/sdi/pid/OBS_DEU_P1D_T5CM_N/...         OK\n",
      "3  https://www.datenportal.bmbf.de/portal/Tabelle...         OK\n",
      "4  https://www.bmi.bund.de/DE/themen/moderne-verw...  Error 403\n",
      "5                     https://www.breitbandatlas.de/         OK\n",
      "6  https://www.dwd.de/DWD/warnungen/cap-feed/de/r...         OK\n",
      "7  http://www.bundespolizei.de/DE/Service/Downloa...  Error 403\n",
      "8  https://www.datenportal.bmbf.de/portal/Tabelle...         OK\n",
      "9  https://www.datenportal.bmbf.de/portal/Tabelle...         OK\n"
     ]
    }
   ],
   "source": [
    "import requests\n",
    "\n",
    "# List of URLs to check\n",
    "urls = random_rows.distribution_link\n",
    "# Create a list of dictionaries to store the results\n",
    "results = []\n",
    "\n",
    "# Check the status of each URL and store the result in the list of dictionaries\n",
    "for url in urls:\n",
    "    try:\n",
    "        response = requests.get(url)\n",
    "        if response.status_code == 200:\n",
    "            status = \"OK\"\n",
    "        else:\n",
    "            status = f\"Error {response.status_code}\"\n",
    "    except requests.exceptions.RequestException as e:\n",
    "        status = f\"Error {e}\"\n",
    "    results.append({\"url\": url, \"status\": status})\n",
    "\n",
    "# Create a DataFrame from the list of dictionaries\n",
    "results_url_status = pd.DataFrame(results)\n",
    "\n",
    "# Save the DataFrame to a CSV file\n",
    "results_url_status.to_csv(\"output/results_url_status.csv\", index=False)\n",
    "\n",
    "# Print the DataFrame\n",
    "print(results_url_status)\n",
    "\n",
    "# Delete variables that are not needed anymore\n",
    "del results, random_rows, response, url, urls"
   ]
  },
  {
   "cell_type": "code",
   "execution_count": 52,
   "metadata": {},
   "outputs": [
    {
     "data": {
      "text/plain": [
       "7"
      ]
     },
     "execution_count": 52,
     "metadata": {},
     "output_type": "execute_result"
    }
   ],
   "source": [
    "(results_url_status[\"status\"] == \"OK\").sum()"
   ]
  },
  {
   "cell_type": "code",
   "execution_count": 51,
   "metadata": {},
   "outputs": [
    {
     "data": {
      "image/png": "[encoded data removed]",
      "text/plain": [
       "<Figure size 640x480 with 1 Axes>"
      ]
     },
     "metadata": {},
     "output_type": "display_data"
    }
   ],
   "source": [
    "import matplotlib.pyplot as plt\n",
    "\n",
    "# Replace all non-\"OK\" cells in the \"status\" column with \"Error\"\n",
    "results_url_status.loc[results_url_status[\"status\"] != \"OK\", \"status\"] = \"Error\"\n",
    "\n",
    "# Group the DataFrame by status and count the number of URLs with each status\n",
    "grouped = results_url_status.groupby(\"status\").size()\n",
    "\n",
    "# Calculate the percentage of \"OK\" and \"Error\" values\n",
    "ok_percent = (results_url_status[\"status\"] == \"OK\").sum() / len(results_url_status)\n",
    "error_percent = (results_url_status[\"status\"] == \"Error\").sum() / len(results_url_status)\n",
    "\n",
    "# Plot the percentages as a bar chart\n",
    "plt.bar([\"OK\", \"Error\"], [ok_percent, error_percent])\n",
    "plt.ylabel(\"Percentage\")\n",
    "plt.title(\"Status of URLs\")\n",
    "plt.show()"
   ]
  }
 ],
 "metadata": {
  "kernelspec": {
   "display_name": "Python 3",
   "language": "python",
   "name": "python3"
  },
  "language_info": {
   "codemirror_mode": {
    "name": "ipython",
    "version": 3
   },
   "file_extension": ".py",
   "mimetype": "text/x-python",
   "name": "python",
   "nbconvert_exporter": "python",
   "pygments_lexer": "ipython3",
   "version": "3.10.4"
  },
  "orig_nbformat": 4
 },
 "nbformat": 4,
 "nbformat_minor": 2
}
