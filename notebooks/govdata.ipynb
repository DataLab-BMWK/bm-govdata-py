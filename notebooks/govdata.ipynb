{
 "cells": [
  {
   "cell_type": "code",
   "execution_count": 35,
   "metadata": {},
   "outputs": [],
   "source": [
    "import requests\n",
    "import pandas as pd\n",
    "import io\n",
    "\n",
    "# Define the SPARQL endpoint\n",
    "endpoint = \"https://www.govdata.de/sparql\"\n",
    "\n",
    "# Get the proxy URL\n",
    "proxy_url = requests.utils.getproxies().get('http')\n",
    "\n",
    "# Set the proxy configuration\n",
    "proxies = {'http': proxy_url}\n",
    "\n",
    "\n",
    "\n",
    "query = \"\"\"\n",
    "PREFIX foaf: <http://xmlns.com/foaf/0.1/>\n",
    "PREFIX dcat: <http://www.w3.org/ns/dcat#>\n",
    "PREFIX dct: <http://purl.org/dc/terms/>\n",
    "PREFIX dcatde: <http://dcat-ap.de/def/dcatde/>\n",
    "\n",
    "SELECT ?dataset ?title ?publication_date ?publisher_name ?distribution_link WHERE {\n",
    "  ?dataset dcat:distribution ?distribution .\n",
    "  ?dataset dct:publisher ?publisher .\n",
    "  ?dataset dct:title ?title .\n",
    "  ?dataset dct:issued ?publication_date .\n",
    "  ?publisher foaf:name ?publisher_name .\n",
    "  OPTIONAL { ?distribution dcat:accessURL ?distribution_link . }\n",
    "  FILTER(REGEX(lcase(?publisher_name),'^bm.*|bundesminist.*'))\n",
    "}\n",
    "\"\"\"\n",
    "\n",
    "# Send the SPARQL query and get the response in CSV format\n",
    "url = endpoint + '?query=' + requests.utils.quote(query, safe='')\n",
    "headers = {'Accept': 'text/csv'}\n",
    "response = requests.get(url, headers=headers, proxies=proxies, timeout=60)\n",
    "\n",
    "# Convert the CSV response to a Pandas DataFrame\n",
    "df = pd.read_csv(io.StringIO(response.content.decode('utf-8')))"
   ]
  },
  {
   "cell_type": "code",
   "execution_count": 2,
   "metadata": {},
   "outputs": [],
   "source": [
    "# Get only distinct datasets\n",
    "df_distinct = df.drop_duplicates(subset=['dataset'])"
   ]
  },
  {
   "cell_type": "code",
   "execution_count": 3,
   "metadata": {},
   "outputs": [
    {
     "name": "stdout",
     "output_type": "stream",
     "text": [
      "Bundesministerium für Familie, Senioren, Frauen und Jugend                                                                          60\n",
      "Bundesministerium für Arbeit und Soziales                                                                                           60\n",
      "Bundesministerium der Finanzen                                                                                                      53\n",
      "Bundesministerium für Wirtschaft und Energie                                                                                        20\n",
      "Bundesministerium des Innern                                                                                                        18\n",
      "Bundesministerium für Wohnen, Stadtentwicklung und Bauwesen                                                                         10\n",
      "Bundesministerium für Digitales und Verkehr (BMDV)                                                                                   6\n",
      "Bundesministerium für Ernährung und Landwirtschaft; Referat 723                                                                      3\n",
      "Bundesministerium des Innern; Referat Presse; Öffentlichkeitsarbeit; Internet                                                        2\n",
      "Bundesministerium des Innern, Referat O1                                                                                             2\n",
      "Bundesministerium für Ernährung und Landwirtschaft; Referat 123                                                                      2\n",
      "BMVg – Referat IUD II 5                                                                                                              2\n",
      "Bundesministerium für Gesundheit; Referat415                                                                                         1\n",
      "Bundesministerium für Arbeit und Soziales                                                                                            1\n",
      "BMBF, Zentralabteilung, Referat Z23                                                                                                  1\n",
      "Bundesministerium der Verteidigung                                                                                                   1\n",
      "Bundesministerium für Gesundheit; Referat I                                                                                          1\n",
      "Bundesministerium für Verkehr und Digitale Infrastruktur                                                                             1\n",
      "Bundesministerium für Ernährung und Landwirtschaft                                                                                   1\n",
      "Bundesministerium des Innern, Referat \"Presse; Öffentlichkeitsarbeit; Internet\"                                                      1\n",
      "Bundesministerium des Innern, Referat \"Presse, Öffentlichkeitsarbeit, Internet\"                                                      1\n",
      "BMF                                                                                                                                  1\n",
      "BMVg  Referat IUD II 5                                                                                                               1\n",
      "Bundesministerium des Innern; Referat O2                                                                                             1\n",
      "Bundesministerium für wirtschaftliche Zusammenarbeit und Entwicklung / Referat - Wirksamkeit und Transparenz; Qualitätsstandards     1\n",
      "Bundesministerium für Gesundheit; Referat 415                                                                                        1\n",
      "Bundesministerium für wirtschaftliche Zusammenarbeit und Entwicklung / Referat Wirksamkeit und Transparenz; Qualitätsstandards       1\n",
      "Name: publisher_name, dtype: int64\n"
     ]
    }
   ],
   "source": [
    "# Count the number of datasets per publisher\n",
    "df_distinct_publ = df_distinct['publisher_name'].value_counts()\n",
    "print(df_distinct_publ)"
   ]
  },
  {
   "cell_type": "code",
   "execution_count": 50,
   "metadata": {},
   "outputs": [],
   "source": [
    "random_rows = df.sample(n=100)"
   ]
  },
  {
   "cell_type": "code",
   "execution_count": 51,
   "metadata": {},
   "outputs": [
    {
     "name": "stdout",
     "output_type": "stream",
     "text": [
      "                                                  url status\n",
      "0   https://www.bundesfinanzministerium.de/Datenpo...     OK\n",
      "1   https://www.bundesfinanzministerium.de/Portal-...     OK\n",
      "2   https://www.bundesfinanzministerium.de/Datenpo...     OK\n",
      "3   https://www.bmas.de/SharedDocs/Downloads/DE/Pu...     OK\n",
      "4   https://www.bmas.de/SharedDocs/Downloads/DE/Pu...     OK\n",
      "..                                                ...    ...\n",
      "95                  https://gigabit-projekttraeger.de     OK\n",
      "96  https://www.bundesfinanzministerium.de/Datenpo...     OK\n",
      "97  https://teamwork.bmz.de/pub/bscw.cgi/2018133/D...     OK\n",
      "98  https://www.bundesfinanzministerium.de/Datenpo...     OK\n",
      "99  https://www.bundesfinanzministerium.de/Datenpo...     OK\n",
      "\n",
      "[100 rows x 2 columns]\n"
     ]
    }
   ],
   "source": [
    "import requests\n",
    "\n",
    "# List of URLs to check\n",
    "urls = random_rows.distribution_link\n",
    "# Create a list of dictionaries to store the results\n",
    "results = []\n",
    "\n",
    "# Check the status of each URL and store the result in the list of dictionaries\n",
    "for url in urls:\n",
    "    try:\n",
    "        response = requests.get(url)\n",
    "        if response.status_code == 200:\n",
    "            status = \"OK\"\n",
    "        else:\n",
    "            status = f\"Error {response.status_code}\"\n",
    "    except requests.exceptions.RequestException as e:\n",
    "        status = f\"Error {e}\"\n",
    "    results.append({\"url\": url, \"status\": status})\n",
    "\n",
    "# Create a DataFrame from the list of dictionaries\n",
    "results_url_status = pd.DataFrame(results)\n",
    "\n",
    "# Save the DataFrame to a CSV file\n",
    "results_url_status.to_csv(\"output/results_url_status.csv\", index=False)\n",
    "\n",
    "# Print the DataFrame\n",
    "print(results_url_status)\n",
    "\n"
   ]
  },
  {
   "cell_type": "code",
   "execution_count": 54,
   "metadata": {},
   "outputs": [
    {
     "data": {
      "text/plain": [
       "68"
      ]
     },
     "execution_count": 54,
     "metadata": {},
     "output_type": "execute_result"
    }
   ],
   "source": [
    "(results_url_status[\"status\"] == \"OK\").sum()"
   ]
  },
  {
   "cell_type": "code",
   "execution_count": 56,
   "metadata": {},
   "outputs": [
    {
     "data": {
      "image/png": "[encoded data removed]",
      "text/plain": [
       "<Figure size 640x480 with 1 Axes>"
      ]
     },
     "metadata": {},
     "output_type": "display_data"
    }
   ],
   "source": [
    "import matplotlib.pyplot as plt\n",
    "\n",
    "# Replace all non-\"OK\" cells in the \"status\" column with \"Error\"\n",
    "results_url_status.loc[results_url_status[\"status\"] != \"OK\", \"status\"] = \"Error\"\n",
    "\n",
    "# Group the DataFrame by status and count the number of URLs with each status\n",
    "grouped = results_url_status.groupby(\"status\").size()\n",
    "\n",
    "# Calculate the percentage of \"OK\" and \"Error\" values\n",
    "ok_percent = (results_url_status[\"status\"] == \"OK\").sum() / len(results_url_status)\n",
    "error_percent = (results_url_status[\"status\"] == \"Error\").sum() / len(results_url_status)\n",
    "\n",
    "# Plot the percentages as a bar chart\n",
    "plt.bar([\"OK\", \"Error\"], [ok_percent, error_percent])\n",
    "plt.ylabel(\"Percentage\")\n",
    "plt.title(\"Status of URLs\")\n",
    "plt.show()"
   ]
  }
 ],
 "metadata": {
  "kernelspec": {
   "display_name": "Python 3",
   "language": "python",
   "name": "python3"
  },
  "language_info": {
   "codemirror_mode": {
    "name": "ipython",
    "version": 3
   },
   "file_extension": ".py",
   "mimetype": "text/x-python",
   "name": "python",
   "nbconvert_exporter": "python",
   "pygments_lexer": "ipython3",
   "version": "3.10.4"
  },
  "orig_nbformat": 4
 },
 "nbformat": 4,
 "nbformat_minor": 2
}
