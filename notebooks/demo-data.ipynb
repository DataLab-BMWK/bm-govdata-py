{
 "cells": [
  {
   "attachments": {},
   "cell_type": "markdown",
   "metadata": {},
   "source": [
    "# Demo Data\n",
    "\n",
    "## Create demo data"
   ]
  },
  {
   "cell_type": "code",
   "execution_count": 1,
   "metadata": {},
   "outputs": [
    {
     "name": "stdout",
     "output_type": "stream",
     "text": [
      "      company_name        city  funding_amount\n",
      "0     Schmidt GmbH      Berlin         1967825\n",
      "1     Müller & Co.     München          519610\n",
      "2     Schneider AG     Hamburg         4714226\n",
      "3       Fischer KG        Köln         4208603\n",
      "4      Schulz GmbH   Frankfurt         3844854\n",
      "5   Koch & Partner   Stuttgart         2441057\n",
      "6  Bauer und Söhne  Düsseldorf         1819583\n",
      "7      Krause GmbH    Dortmund         9249732\n",
      "8       Hofmann AG       Essen         1558591\n",
      "9     Wagner & Co.     Leipzig         7178673\n"
     ]
    }
   ],
   "source": [
    "# Create dummy data\n",
    "import pandas as pd\n",
    "import random\n",
    "\n",
    "# Seed the random number generator\n",
    "random.seed(42)\n",
    "\n",
    "# List of German-sounding company names\n",
    "company_names = [\"Schmidt GmbH\", \"Müller & Co.\", \"Schneider AG\", \"Fischer KG\", \"Schulz GmbH\",\n",
    "                 \"Koch & Partner\", \"Bauer und Söhne\", \"Krause GmbH\", \"Hofmann AG\", \"Wagner & Co.\"]\n",
    "\n",
    "# List of German city names\n",
    "city_names = [\"Berlin\", \"München\", \"Hamburg\", \"Köln\", \"Frankfurt\", \"Stuttgart\",\n",
    "              \"Düsseldorf\", \"Dortmund\", \"Essen\", \"Leipzig\"]\n",
    "\n",
    "# Generate dummy data for 10 companies\n",
    "data = []\n",
    "for i in range(10):\n",
    "    # Randomly select a company name and address\n",
    "    company_name = company_names[i]\n",
    "    city = city_names[i]\n",
    "    \n",
    "    # Randomly generate a funding amount\n",
    "    funding_amount = random.randint(100000, 9999999)\n",
    "\n",
    "    # Add the company data to the list\n",
    "    data.append({\"company_name\": company_name, \"city\": city, \"funding_amount\": funding_amount})\n",
    "\n",
    "# Print the generated data\n",
    "df = pd.DataFrame(data)\n",
    "print(df)"
   ]
  },
  {
   "attachments": {},
   "cell_type": "markdown",
   "metadata": {},
   "source": [
    "## Save dummy data in csv, xml and json file format"
   ]
  },
  {
   "cell_type": "code",
   "execution_count": 2,
   "metadata": {},
   "outputs": [],
   "source": [
    "import csv\n",
    "import xml.etree.ElementTree as ET\n",
    "import json\n",
    "\n",
    "# Save data as CSV\n",
    "with open(\"output/data.csv\", \"w\", newline=\"\") as csvfile:\n",
    "    fieldnames = [\"company_name\", \"city\", \"funding_amount\"]\n",
    "    writer = csv.DictWriter(csvfile, fieldnames=fieldnames)\n",
    "\n",
    "    writer.writeheader()\n",
    "    for row in data:\n",
    "        writer.writerow(row)\n",
    "\n",
    "# Save data as XML\n",
    "root = ET.Element(\"data\")\n",
    "for row in data:\n",
    "    item = ET.SubElement(root, \"item\")\n",
    "    for key, value in row.items():\n",
    "        ET.SubElement(item, key).text = str(value)\n",
    "tree = ET.ElementTree(root)\n",
    "tree.write(\"output/data.xml\")\n",
    "\n",
    "# Save data as JSON\n",
    "with open(\"output/data.json\", \"w\") as jsonfile:\n",
    "    json.dump(data, jsonfile)"
   ]
  }
 ],
 "metadata": {
  "kernelspec": {
   "display_name": "Python 3",
   "language": "python",
   "name": "python3"
  },
  "language_info": {
   "codemirror_mode": {
    "name": "ipython",
    "version": 3
   },
   "file_extension": ".py",
   "mimetype": "text/x-python",
   "name": "python",
   "nbconvert_exporter": "python",
   "pygments_lexer": "ipython3",
   "version": "3.10.4"
  },
  "orig_nbformat": 4
 },
 "nbformat": 4,
 "nbformat_minor": 2
}
